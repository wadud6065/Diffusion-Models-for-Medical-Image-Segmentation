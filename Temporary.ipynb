{
 "cells": [
  {
   "cell_type": "code",
   "execution_count": 1,
   "id": "21984949",
   "metadata": {},
   "outputs": [],
   "source": [
    "from scripts.DataLoader import Load_data\n",
    "import matplotlib.pyplot as plt"
   ]
  },
  {
   "cell_type": "code",
   "execution_count": 2,
   "id": "6a04eff2",
   "metadata": {},
   "outputs": [
    {
     "name": "stdout",
     "output_type": "stream",
     "text": [
      "tensor([[[0, 0, 0,  ..., 0, 0, 0],\n",
      "         [0, 0, 0,  ..., 0, 0, 0],\n",
      "         [0, 0, 0,  ..., 0, 0, 0],\n",
      "         ...,\n",
      "         [0, 0, 0,  ..., 0, 0, 0],\n",
      "         [0, 0, 0,  ..., 0, 0, 0],\n",
      "         [0, 0, 0,  ..., 0, 0, 0]]], dtype=torch.uint8)\n"
     ]
    }
   ],
   "source": [
    "# Import necessary libraries\n",
    "import torch\n",
    "from PIL import Image\n",
    "import torchvision.transforms as transforms\n",
    "\n",
    "# Read a PIL image\n",
    "image = Image.open('data_image/clean/2_IM-0383-0001_anon.png')\n",
    "\n",
    "# Define a transform to convert PIL \n",
    "# image to a Torch tensor\n",
    "\n",
    "rgba_image = image.convert(\"L\")\n",
    "rgba_image = rgba_image.resize((1024, 768), Image.Resampling.LANCZOS)\n",
    "transform = transforms.Compose([\n",
    "    transforms.PILToTensor()\n",
    "])\n",
    "\n",
    "# transform = transforms.PILToTensor()\n",
    "# Convert the PIL image to Torch tensor\n",
    "img_tensor = transform(rgba_image)\n",
    "\n",
    "# print the converted Torch tensor\n",
    "print(img_tensor)"
   ]
  },
  {
   "cell_type": "code",
   "execution_count": null,
   "id": "a23c39a3",
   "metadata": {},
   "outputs": [],
   "source": [
    "img_tensor.size()"
   ]
  },
  {
   "cell_type": "code",
   "execution_count": null,
   "id": "c4656553",
   "metadata": {},
   "outputs": [],
   "source": [
    "view = transforms.ToPILImage()\n",
    "out = view(img_tensor)\n",
    "out.show()"
   ]
  },
  {
   "cell_type": "code",
   "execution_count": null,
   "id": "fe10c419",
   "metadata": {},
   "outputs": [],
   "source": [
    "dataset = Load_data(mode = 'Train', image_width=1024, image_height=768)\n",
    "datal= torch.utils.data.DataLoader(dataset, batch_size=5, shuffle=True)\n",
    "data = iter(datal)\n",
    "noisy_image, clean_image, _, _ = next(data)"
   ]
  },
  {
   "cell_type": "code",
   "execution_count": null,
   "id": "c3620379",
   "metadata": {},
   "outputs": [],
   "source": [
    "noisy_image[1].shape"
   ]
  },
  {
   "cell_type": "code",
   "execution_count": null,
   "id": "5346001e",
   "metadata": {},
   "outputs": [],
   "source": [
    "clean_image[1].shape"
   ]
  },
  {
   "cell_type": "code",
   "execution_count": null,
   "id": "43ceee52",
   "metadata": {},
   "outputs": [],
   "source": [
    "view = transforms.ToPILImage()\n",
    "out = view(noisy_image[1])\n",
    "out.show()"
   ]
  },
  {
   "cell_type": "code",
   "execution_count": null,
   "id": "be1de635",
   "metadata": {},
   "outputs": [],
   "source": [
    "view = transforms.ToPILImage()\n",
    "out = view(clean_image[1])\n",
    "out.show()"
   ]
  },
  {
   "cell_type": "code",
   "execution_count": 3,
   "id": "884573fd",
   "metadata": {},
   "outputs": [],
   "source": [
    "ds = Load_data(mode='Test', image_width=512, image_height=384)\n",
    "datal= torch.utils.data.DataLoader(\n",
    "    ds,\n",
    "    batch_size=1,\n",
    "    shuffle=False)\n",
    "data = iter(datal)"
   ]
  },
  {
   "cell_type": "code",
   "execution_count": 7,
   "id": "7d7dc947",
   "metadata": {},
   "outputs": [
    {
     "name": "stdout",
     "output_type": "stream",
     "text": [
      "./data_image/noise/15_IM-0042-0051_anon.png\n",
      "('./data_image/clean/15_IM-0042-0051_anon.png',)\n"
     ]
    }
   ],
   "source": [
    "noisy_image, clean_image, path1, path2 = next(data)\n",
    "# print(path1.removeprefix('./data_image/noise/'))\n",
    "print(path2)"
   ]
  },
  {
   "cell_type": "code",
   "execution_count": 12,
   "id": "45b5e32c",
   "metadata": {},
   "outputs": [
    {
     "name": "stdout",
     "output_type": "stream",
     "text": [
      "15_IM-0042-0051_anon.png\n"
     ]
    }
   ],
   "source": [
    "print(path1[0].removeprefix('./data_image/noise/'))"
   ]
  },
  {
   "cell_type": "code",
   "execution_count": 13,
   "id": "27f3b8f2",
   "metadata": {},
   "outputs": [
    {
     "name": "stdout",
     "output_type": "stream",
     "text": [
      "15_IM-0042-0051_anon\n"
     ]
    }
   ],
   "source": [
    "import os\n",
    "slice_ID = os.path.basename(path1[0]).split(\".\")[0]\n",
    "print(slice_ID)"
   ]
  },
  {
   "cell_type": "code",
   "execution_count": null,
   "id": "5d9b7cd7",
   "metadata": {},
   "outputs": [],
   "source": [
    "c = torch.randn_like(noisy_image[:, :1, ...])\n",
    "img = torch.cat((noisy_image, c), dim=1) "
   ]
  },
  {
   "cell_type": "code",
   "execution_count": null,
   "id": "14f235bd",
   "metadata": {},
   "outputs": [],
   "source": [
    "c.shape"
   ]
  },
  {
   "cell_type": "code",
   "execution_count": null,
   "id": "f57ab1ad",
   "metadata": {},
   "outputs": [],
   "source": [
    "img.shape"
   ]
  },
  {
   "cell_type": "code",
   "execution_count": null,
   "id": "f425d048",
   "metadata": {},
   "outputs": [],
   "source": [
    "noise = torch.randn_like(img[:, :1, ...])\n",
    "x_noisy = torch.cat((img[:, :-1,  ...], noise), dim=1)"
   ]
  },
  {
   "cell_type": "code",
   "execution_count": null,
   "id": "aa6d5a0b",
   "metadata": {},
   "outputs": [],
   "source": [
    "noise.shape"
   ]
  },
  {
   "cell_type": "code",
   "execution_count": null,
   "id": "ee2e1ced",
   "metadata": {},
   "outputs": [],
   "source": [
    "x_noisy.shape"
   ]
  },
  {
   "cell_type": "code",
   "execution_count": null,
   "id": "bc24f9d8",
   "metadata": {},
   "outputs": [],
   "source": [
    "org_MRI = img[:, :-1, ...]  "
   ]
  },
  {
   "cell_type": "code",
   "execution_count": null,
   "id": "452db23f",
   "metadata": {},
   "outputs": [],
   "source": [
    "org_MRI.shape"
   ]
  },
  {
   "cell_type": "code",
   "execution_count": null,
   "id": "03eb2a77",
   "metadata": {},
   "outputs": [],
   "source": [
    "k = torch.cat((org_MRI,img), dim=1) "
   ]
  },
  {
   "cell_type": "code",
   "execution_count": null,
   "id": "4167d0a8",
   "metadata": {},
   "outputs": [],
   "source": [
    "k.shape"
   ]
  },
  {
   "cell_type": "code",
   "execution_count": null,
   "id": "c476e1ca",
   "metadata": {},
   "outputs": [],
   "source": [
    "temp = (1, 2, 450, 480)"
   ]
  },
  {
   "cell_type": "code",
   "execution_count": null,
   "id": "ffe6734c",
   "metadata": {},
   "outputs": [],
   "source": [
    "temp[2]"
   ]
  },
  {
   "cell_type": "code",
   "execution_count": null,
   "id": "af36affe",
   "metadata": {},
   "outputs": [],
   "source": []
  }
 ],
 "metadata": {
  "kernelspec": {
   "display_name": "tmp",
   "language": "python",
   "name": "python3"
  },
  "language_info": {
   "codemirror_mode": {
    "name": "ipython",
    "version": 3
   },
   "file_extension": ".py",
   "mimetype": "text/x-python",
   "name": "python",
   "nbconvert_exporter": "python",
   "pygments_lexer": "ipython3",
   "version": "3.11.5"
  }
 },
 "nbformat": 4,
 "nbformat_minor": 5
}
