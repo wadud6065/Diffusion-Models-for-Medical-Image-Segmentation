{
 "cells": [
  {
   "cell_type": "code",
   "execution_count": 1,
   "id": "21984949",
   "metadata": {},
   "outputs": [],
   "source": [
    "from scripts.DataLoader import Load_data\n",
    "import matplotlib.pyplot as plt"
   ]
  },
  {
   "cell_type": "code",
   "execution_count": 2,
   "id": "6a04eff2",
   "metadata": {},
   "outputs": [
    {
     "name": "stdout",
     "output_type": "stream",
     "text": [
      "tensor([[[0, 0, 0,  ..., 0, 0, 0],\n",
      "         [0, 0, 0,  ..., 0, 0, 0],\n",
      "         [0, 0, 0,  ..., 0, 0, 0],\n",
      "         ...,\n",
      "         [0, 0, 0,  ..., 0, 0, 0],\n",
      "         [0, 0, 0,  ..., 0, 0, 0],\n",
      "         [0, 0, 0,  ..., 0, 0, 0]]], dtype=torch.uint8)\n"
     ]
    }
   ],
   "source": [
    "# Import necessary libraries\n",
    "import torch\n",
    "from PIL import Image\n",
    "import torchvision.transforms as transforms\n",
    "\n",
    "# Read a PIL image\n",
    "image = Image.open('data_image/clean/2_IM-0383-0001_anon.png')\n",
    "\n",
    "# Define a transform to convert PIL \n",
    "# image to a Torch tensor\n",
    "\n",
    "rgba_image = image.convert(\"L\")\n",
    "rgba_image = rgba_image.resize((1024, 768), Image.Resampling.LANCZOS)\n",
    "transform = transforms.Compose([\n",
    "    transforms.PILToTensor()\n",
    "])\n",
    "\n",
    "# transform = transforms.PILToTensor()\n",
    "# Convert the PIL image to Torch tensor\n",
    "img_tensor = transform(rgba_image)\n",
    "\n",
    "# print the converted Torch tensor\n",
    "print(img_tensor)"
   ]
  },
  {
   "cell_type": "code",
   "execution_count": 3,
   "id": "a23c39a3",
   "metadata": {},
   "outputs": [
    {
     "data": {
      "text/plain": [
       "torch.Size([1, 768, 1024])"
      ]
     },
     "execution_count": 3,
     "metadata": {},
     "output_type": "execute_result"
    }
   ],
   "source": [
    "img_tensor.size()"
   ]
  },
  {
   "cell_type": "code",
   "execution_count": null,
   "id": "c4656553",
   "metadata": {},
   "outputs": [],
   "source": [
    "view = transforms.ToPILImage()\n",
    "out = view(img_tensor)\n",
    "out.show()"
   ]
  },
  {
   "cell_type": "code",
   "execution_count": 4,
   "id": "fe10c419",
   "metadata": {},
   "outputs": [],
   "source": [
    "dataset = Load_data(mode = 'Train', image_width=1024, image_height=768)\n",
    "datal= torch.utils.data.DataLoader(dataset, batch_size=5, shuffle=True)\n",
    "data = iter(datal)\n",
    "noisy_image, clean_image, _, _ = next(data)"
   ]
  },
  {
   "cell_type": "code",
   "execution_count": 5,
   "id": "c3620379",
   "metadata": {},
   "outputs": [
    {
     "data": {
      "text/plain": [
       "torch.Size([4, 768, 1024])"
      ]
     },
     "execution_count": 5,
     "metadata": {},
     "output_type": "execute_result"
    }
   ],
   "source": [
    "noisy_image[1].shape"
   ]
  },
  {
   "cell_type": "code",
   "execution_count": 6,
   "id": "5346001e",
   "metadata": {},
   "outputs": [
    {
     "data": {
      "text/plain": [
       "torch.Size([1, 768, 1024])"
      ]
     },
     "execution_count": 6,
     "metadata": {},
     "output_type": "execute_result"
    }
   ],
   "source": [
    "clean_image[1].shape"
   ]
  },
  {
   "cell_type": "code",
   "execution_count": null,
   "id": "43ceee52",
   "metadata": {},
   "outputs": [],
   "source": [
    "view = transforms.ToPILImage()\n",
    "out = view(noisy_image[1])\n",
    "out.show()"
   ]
  },
  {
   "cell_type": "code",
   "execution_count": 1,
   "id": "be1de635",
   "metadata": {},
   "outputs": [
    {
     "ename": "NameError",
     "evalue": "name 'transforms' is not defined",
     "output_type": "error",
     "traceback": [
      "\u001b[1;31m---------------------------------------------------------------------------\u001b[0m",
      "\u001b[1;31mNameError\u001b[0m                                 Traceback (most recent call last)",
      "Cell \u001b[1;32mIn[1], line 1\u001b[0m\n\u001b[1;32m----> 1\u001b[0m view \u001b[38;5;241m=\u001b[39m \u001b[43mtransforms\u001b[49m\u001b[38;5;241m.\u001b[39mToPILImage()\n\u001b[0;32m      2\u001b[0m out \u001b[38;5;241m=\u001b[39m view(clean_image[\u001b[38;5;241m1\u001b[39m])\n\u001b[0;32m      3\u001b[0m out\u001b[38;5;241m.\u001b[39mshow()\n",
      "\u001b[1;31mNameError\u001b[0m: name 'transforms' is not defined"
     ]
    }
   ],
   "source": [
    "view = transforms.ToPILImage()\n",
    "out = view(clean_image[1])\n",
    "out.show()"
   ]
  },
  {
   "cell_type": "code",
   "execution_count": null,
   "id": "884573fd",
   "metadata": {},
   "outputs": [],
   "source": []
  }
 ],
 "metadata": {
  "kernelspec": {
   "display_name": "tmp",
   "language": "python",
   "name": "python3"
  },
  "language_info": {
   "codemirror_mode": {
    "name": "ipython",
    "version": 3
   },
   "file_extension": ".py",
   "mimetype": "text/x-python",
   "name": "python",
   "nbconvert_exporter": "python",
   "pygments_lexer": "ipython3",
   "version": "3.11.5"
  }
 },
 "nbformat": 4,
 "nbformat_minor": 5
}
